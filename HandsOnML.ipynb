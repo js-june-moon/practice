{
  "nbformat": 4,
  "nbformat_minor": 0,
  "metadata": {
    "colab": {
      "name": "HandsOnML.ipynb",
      "provenance": [],
      "collapsed_sections": [],
      "authorship_tag": "ABX9TyP5KY6jQgubQv0QiyuGoLb0",
      "include_colab_link": true
    },
    "kernelspec": {
      "name": "python3",
      "display_name": "Python 3"
    }
  },
  "cells": [
    {
      "cell_type": "markdown",
      "metadata": {
        "id": "view-in-github",
        "colab_type": "text"
      },
      "source": [
        "<a href=\"https://colab.research.google.com/github/js-june-moon/practice/blob/main/HandsOnML.ipynb\" target=\"_parent\"><img src=\"https://colab.research.google.com/assets/colab-badge.svg\" alt=\"Open In Colab\"/></a>"
      ]
    },
    {
      "cell_type": "code",
      "metadata": {
        "id": "a7JYje2dLKc0"
      },
      "source": [
        "url = 'https://raw.githubusercontent.com/js-june-moon/practice/main/cal_housing.data'"
      ],
      "execution_count": null,
      "outputs": []
    },
    {
      "cell_type": "markdown",
      "metadata": {
        "id": "pdxfeWTRLPWs"
      },
      "source": [
        "# Chapter 2\r\n",
        "---\r\n",
        "**주요 단계**\r\n",
        "\r\n",
        "    1.   큰 그림을 봅니다.\r\n",
        "    2.   데이터를 구합니다.\r\n",
        "    3.   데이터로부터 통찰을 어기 위해 탐색하고 시각화합니다.\r\n",
        "    4.   머신러닝 알고리즘을 위해 데이터를 준비합니다.\r\n",
        "    5.   모델을 선택하고 훈련시킵니다.\r\n",
        "    6.   모델을 상세하게 조정합니다.\r\n",
        "    7.   솔루션을 제시합니다.\r\n",
        "    8.   시스템을 론칭하고 모니터링하고 유지 보수합니다."
      ]
    },
    {
      "cell_type": "markdown",
      "metadata": {
        "id": "RvCU-viLNFYP"
      },
      "source": [
        ">2.1 실제 데이터로 작업하기\r\n",
        "\r\n",
        "    *   유명한 공개 데이터 저장소\r\n",
        "      -   UC 얼바인 머신러닝 저장소(http://archive.ics.uci.deu/ml)\r\n",
        "      -   캐글 데이터셋(http://www.kaggle.com/datasets)\r\n",
        "      -   아마존 AWS 데이터셋(https://registry.opendata.aws)\r\n",
        "    *   메타 포털\r\n",
        "      -   데이터 포털(http://dataportals.org)\r\n",
        "      -   오픈 데이터 모니터(http://opendatamonitor.eu)\r\n",
        "      -   퀀들(http://quandl.com)\r\n",
        "    *   인기 있는 공개 데이터 저장소가 나열되어 있는 다른 페이지\r\n",
        "      -   위키백과 머신러닝 데이터셋 목록(https://goo.gl/SJHN2k)\r\n",
        "      -   Quora.com(https://homl.info/10)\r\n",
        "      -   데이터셋 서브레딧(http://www.reddit.com/r/datasets)\r\n",
        "\r\n",
        "**StatLib 저장소에 있는 캘리포니아 주택 가격 데이터셋 사용**\r\n",
        "\r\n",
        "      StatLib 저장소(http://lib.stat.cmu.edu/datasets/)\r\n",
        "\r\n",
        "      본 장에서는 수정된 버전을 사용하며 해당 버전은 아래의 링크에 존재\r\n",
        "\r\n",
        "      https://goo.gl/QgRbUL"
      ]
    },
    {
      "cell_type": "markdown",
      "metadata": {
        "id": "Cct4KebnSBpm"
      },
      "source": [
        ">2.2 큰 그림 보기\r\n",
        "\r\n",
        "**필기**\r\n",
        "    \r\n",
        "    1. 문제정의\r\n",
        "     머신러닝 시스템에 주입하는 정보를 클로드 섀넌의 정보 이론을 따라 종종 신호(signal)이라 함\r\n",
        "     데이터 처리 컴포넌트들이 연속되어 있는 것을 데이터 파이프라인이라 함\r\n",
        "\r\n",
        "     문제 정의\r\n",
        "      1. 비즈니스의 목적이 정확히 무엇인가요?\r\n",
        "      2. 현재 솔루션은 어떻게 구성되어 있나요? \r\n",
        "\r\n",
        "    2. 성능 측정 지표 선택\r\n",
        "     회귀 문제의 전형적인 성능 지표는 평균 제곱근 오차\r\n",
        "     RMSE(Root Mean Square Error)\r\n",
        "      -> 오차가 커질수록 이 값은 더욱 커지므로 예측에 얼마나 많은 오류가 있는지 가늠하게 해줌\r\n",
        "     표기법\r\n",
        "      m = RMSE를 측정할 데이터셋에 있는 샘플 수\r\n",
        "      x(i) = 데이터셋에 있는 i번째 샘플(레이블은 제외한)의 전체 특성값의 벡터\r\n",
        "      y(i) = 해당 레이블(해당 샘플의 기대 출력값)\r\n",
        "      X = 데이터셋에 있는 모든 샘플의 모든 특성값(레이블은 제외)을 포함하는 행렬\r\n",
        "          샘플 하나가 하나의 행이어서 i번째 해은 x(i)의 전치와 같고 (x(i))^T로 표기\r\n",
        "      h = 시스템의 예측 함수이며 가설(hypothesis)\r\n",
        "      시스템이 하나의 샘플 특성 벡터 x(i)를 받으면 그 샘플에 대한 예측값 y_hat(i) = h(x(i)) 출력\r\n",
        "      RMSE(X, h)는 가설 h를 사용하여 일련의 샘플을 평가하는 비용 함수\r\n",
        "\r\n",
        "     이상치로 많이 보이는 구역에서는 평균 절대 오차(평균 절대 편차) 고려해볼 수 있음\r\n",
        "     Mean Absolute Error, Mean Absolute Deviation\r\n",
        "\r\n",
        "     RMSE와 MAE 모두 예측값의 벡터와 타깃값의 벡터 사이의 거리를 재는 방법\r\n",
        "\r\n",
        "    3. 가정 검사"
      ]
    },
    {
      "cell_type": "code",
      "metadata": {
        "id": "ggB0Rp58LRlF"
      },
      "source": [
        ""
      ],
      "execution_count": null,
      "outputs": []
    }
  ]
}